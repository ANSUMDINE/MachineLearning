{
 "cells": [
  {
   "cell_type": "markdown",
   "id": "ea980358-a761-4253-80f1-9b8327781c5e",
   "metadata": {},
   "source": [
    "##### Problem\n",
    "\n",
    "You are given row x col grid representing a map where grid[i][j] = 1 represents land and grid[i][j] = 0 represents water.\r\n",
    "\r\n",
    "Grid cells are connected horizontally/vertically (not diagonally). The grid is completely surrounded by water, and there is exactly one island (i.e., one or more connected land cells).\r\n",
    "\r\n",
    "The island doesn't have \"lakes\", meaning the water inside isn't connected to the water around the island. One cell is a square with side length 1. The grid is rectangular, width and height don't exceed 100. Determine the perimeter of the island."
   ]
  },
  {
   "cell_type": "code",
   "execution_count": 1,
   "id": "b8d6bcb7-02fd-4d2e-b381-9a83ff778cb2",
   "metadata": {},
   "outputs": [
    {
     "name": "stdout",
     "output_type": "stream",
     "text": [
      "16\n"
     ]
    }
   ],
   "source": [
    "def island_perimeter(grid):\n",
    "    rows = len(grid)\n",
    "    cols = len(grid[0])\n",
    "    perimeter = 0\n",
    "\n",
    "    for i in range(rows):\n",
    "        for j in range(cols):\n",
    "            if grid[i][j] == 1:\n",
    "                perimeter += 4\n",
    "                if i > 0 and grid[i-1][j] == 1:  \n",
    "                    perimeter -= 2\n",
    "                if j > 0 and grid[i][j-1] == 1:  \n",
    "                    perimeter -= 2\n",
    "\n",
    "    return perimeter\n",
    "\n",
    "# Exemple de grille de test\n",
    "grid = [\n",
    "    [0, 1, 0, 0],\n",
    "    [1, 1, 1, 0],\n",
    "    [0, 1, 0, 0],\n",
    "    [1, 1, 0, 0]\n",
    "]\n",
    "\n",
    "\n",
    "print(island_perimeter(grid))  # Le résultat attendu est 16\n"
   ]
  },
  {
   "cell_type": "code",
   "execution_count": null,
   "id": "914c0338-f199-4e74-8ae2-3bb8f61f26e8",
   "metadata": {},
   "outputs": [],
   "source": []
  }
 ],
 "metadata": {
  "kernelspec": {
   "display_name": "Python 3 (ipykernel)",
   "language": "python",
   "name": "python3"
  },
  "language_info": {
   "codemirror_mode": {
    "name": "ipython",
    "version": 3
   },
   "file_extension": ".py",
   "mimetype": "text/x-python",
   "name": "python",
   "nbconvert_exporter": "python",
   "pygments_lexer": "ipython3",
   "version": "3.11.7"
  }
 },
 "nbformat": 4,
 "nbformat_minor": 5
}
