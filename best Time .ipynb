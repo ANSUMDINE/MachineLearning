{
 "cells": [
  {
   "cell_type": "markdown",
   "id": "45015cb1-763f-41b2-adb6-b4ff292b78dc",
   "metadata": {},
   "source": [
    "##### Problem\n",
    "\n",
    "You are given an array prices where prices[i] is the price of a given stock on the ith day.\r\n",
    "\r\n",
    "You want to maximize your profit by choosing a single day to buy one stock and choosing a different day in the future to sell that stock.\r\n",
    "\r\n",
    "Return the maximum profit you can achieve from this transaction. If you cannot achieve any profit, return 0."
   ]
  },
  {
   "cell_type": "code",
   "execution_count": 1,
   "id": "b7232ed1-d544-4d96-b1b3-1f2741ca5eb9",
   "metadata": {},
   "outputs": [
    {
     "name": "stdout",
     "output_type": "stream",
     "text": [
      "5\n"
     ]
    }
   ],
   "source": [
    "def max_profit(prices):\n",
    "    if not prices:\n",
    "        return 0\n",
    "    \n",
    "    min_price = float('inf')\n",
    "    max_profit = 0\n",
    "    \n",
    "    for price in prices:\n",
    "        if price < min_price:\n",
    "            min_price = price\n",
    "        elif price - min_price > max_profit:\n",
    "            max_profit = price - min_price\n",
    "    \n",
    "    return max_profit\n",
    "\n",
    "# Exemple d'utilisation\n",
    "prices = [7, 1, 5, 3, 6, 4]\n",
    "print(max_profit(prices))  # Sortie : 5\n"
   ]
  },
  {
   "cell_type": "code",
   "execution_count": null,
   "id": "396b46da-f3bc-41e1-97fb-801f8f31438a",
   "metadata": {},
   "outputs": [],
   "source": []
  }
 ],
 "metadata": {
  "kernelspec": {
   "display_name": "Python 3 (ipykernel)",
   "language": "python",
   "name": "python3"
  },
  "language_info": {
   "codemirror_mode": {
    "name": "ipython",
    "version": 3
   },
   "file_extension": ".py",
   "mimetype": "text/x-python",
   "name": "python",
   "nbconvert_exporter": "python",
   "pygments_lexer": "ipython3",
   "version": "3.11.7"
  }
 },
 "nbformat": 4,
 "nbformat_minor": 5
}
