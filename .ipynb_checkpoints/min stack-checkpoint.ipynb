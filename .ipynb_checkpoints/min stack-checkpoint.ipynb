{
 "cells": [
  {
   "cell_type": "markdown",
   "id": "4714a03b-9062-4c5c-b527-d953b2ddd642",
   "metadata": {},
   "source": [
    "#### Problem MIN STACK\n",
    "Design a stack that supports push, pop, top, and retrieving the minimum element in constant time.\r\n",
    "\r\n",
    "Implement the MinStack class:\r\n",
    "\r\n",
    "MinStack() initializes the stack object.\r\n",
    "void push(int val) pushes the element val onto the stack.\r\n",
    "void pop() removes the element on the top of the stack.\r\n",
    "int top() gets the top element of the stack.\r\n",
    "int getMin() retrieves the minimum element in the stack.\r\n",
    "You must implement a solution with O(1) time complexity for each function."
   ]
  },
  {
   "cell_type": "code",
   "execution_count": 1,
   "id": "034aae36-b3ef-46cb-96ac-6cbbaecbce7b",
   "metadata": {},
   "outputs": [],
   "source": [
    "class MinStack:\n",
    "    def __init__(self):\n",
    "        self.stack = []\n",
    "        self.min_stack = []\n",
    "\n",
    "    def push(self, val: int) -> None:\n",
    "        self.stack.append(val)\n",
    "        if not self.min_stack or val <= self.min_stack[-1]:\n",
    "            self.min_stack.append(val)\n",
    "\n",
    "    def pop(self) -> None:\n",
    "        if self.stack:\n",
    "            if self.stack[-1] == self.min_stack[-1]:\n",
    "                self.min_stack.pop()\n",
    "            self.stack.pop()\n",
    "\n",
    "    def top(self) -> int:\n",
    "        if self.stack:\n",
    "            return self.stack[-1]\n",
    "        return None\n",
    "\n",
    "    def getMin(self) -> int:\n",
    "        if self.min_stack:\n",
    "            return self.min_stack[-1]\n",
    "        return None\n"
   ]
  },
  {
   "cell_type": "code",
   "execution_count": 2,
   "id": "56d5137e-5876-4d35-b2f7-a3835e1e53be",
   "metadata": {},
   "outputs": [
    {
     "name": "stdout",
     "output_type": "stream",
     "text": [
      "Minimum après push(3) et push(5): 3\n",
      "Minimum après push(2) et push(1): 1\n",
      "Minimum après pop(): 2\n",
      "Élément au sommet: 2\n",
      "Minimum après pop(): 3\n",
      "Minimum après push(0): 0\n"
     ]
    }
   ],
   "source": [
    "# Création d'une instance de MinStack\n",
    "min_stack = MinStack()\n",
    "\n",
    "# Pousser des éléments dans la pile\n",
    "min_stack.push(3)\n",
    "min_stack.push(5)\n",
    "print(\"Minimum après push(3) et push(5):\", min_stack.getMin())  # Devrait afficher 3\n",
    "\n",
    "min_stack.push(2)\n",
    "min_stack.push(1)\n",
    "print(\"Minimum après push(2) et push(1):\", min_stack.getMin())  # Devrait afficher 1\n",
    "\n",
    "# Retirer l'élément du sommet\n",
    "min_stack.pop()\n",
    "print(\"Minimum après pop():\", min_stack.getMin())  # Devrait afficher 2\n",
    "\n",
    "# Obtenir l'élément du sommet\n",
    "print(\"Élément au sommet:\", min_stack.top())  # Devrait afficher 2\n",
    "\n",
    "# Retirer l'élément du sommet\n",
    "min_stack.pop()\n",
    "print(\"Minimum après pop():\", min_stack.getMin())  # Devrait afficher 3\n",
    "\n",
    "# Pousser un nouvel élément\n",
    "min_stack.push(0)\n",
    "print(\"Minimum après push(0):\", min_stack.getMin())  # Devrait afficher 0\n"
   ]
  },
  {
   "cell_type": "code",
   "execution_count": null,
   "id": "71e6810d-7e73-4ba7-baf0-228d773b7478",
   "metadata": {},
   "outputs": [],
   "source": []
  }
 ],
 "metadata": {
  "kernelspec": {
   "display_name": "Python 3 (ipykernel)",
   "language": "python",
   "name": "python3"
  },
  "language_info": {
   "codemirror_mode": {
    "name": "ipython",
    "version": 3
   },
   "file_extension": ".py",
   "mimetype": "text/x-python",
   "name": "python",
   "nbconvert_exporter": "python",
   "pygments_lexer": "ipython3",
   "version": "3.11.7"
  }
 },
 "nbformat": 4,
 "nbformat_minor": 5
}
