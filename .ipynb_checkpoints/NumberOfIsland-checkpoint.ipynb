{
 "cells": [
  {
   "cell_type": "markdown",
   "id": "f5c881e6-a2fd-438f-aa87-58571f9238b4",
   "metadata": {},
   "source": [
    "##### Problem : Nomber of island\n",
    "\n",
    "Given an 2D binary grid which represents a map of s (land) and s (water), return the number of islands.m x ngrid'1''0'\r\n",
    "\r\n",
    "An island is surrounded by water and is formed by connecting adjacent lands horizontally or vertically. You may assume all four edges of the grid are all surrounded by water."
   ]
  },
  {
   "cell_type": "code",
   "execution_count": 1,
   "id": "e1c3b604-019e-4da0-9c70-d7dd161311c0",
   "metadata": {},
   "outputs": [
    {
     "name": "stdout",
     "output_type": "stream",
     "text": [
      "1\n"
     ]
    }
   ],
   "source": [
    "def num_islands(grid):\n",
    "    if not grid:\n",
    "        return 0\n",
    "\n",
    "    rows, cols = len(grid), len(grid[0])\n",
    "    visited = [[False for _ in range(cols)] for _ in range(rows)]\n",
    "\n",
    "    def dfs(i, j):\n",
    "        if i < 0 or i >= rows or j < 0 or j >= cols or grid[i][j] == '0' or visited[i][j]:\n",
    "            return\n",
    "        visited[i][j] = True\n",
    "        dfs(i + 1, j)\n",
    "        dfs(i - 1, j)\n",
    "        dfs(i, j + 1)\n",
    "        dfs(i, j - 1)\n",
    "\n",
    "    island_count = 0\n",
    "    for i in range(rows):\n",
    "        for j in range(cols):\n",
    "            if grid[i][j] == '1' and not visited[i][j]:\n",
    "                dfs(i, j)\n",
    "                island_count += 1\n",
    "\n",
    "    return island_count\n",
    "\n",
    "# Exemple de grille\n",
    "grid = [\n",
    "  [\"1\",\"1\",\"1\",\"1\",\"0\"],\n",
    "  [\"1\",\"1\",\"0\",\"1\",\"0\"],\n",
    "  [\"1\",\"1\",\"0\",\"0\",\"0\"],\n",
    "  [\"0\",\"0\",\"0\",\"0\",\"0\"]\n",
    "]\n",
    "\n",
    "print(num_islands(grid))  # Le résultat attendu est 1\n"
   ]
  },
  {
   "cell_type": "code",
   "execution_count": null,
   "id": "a8790854-3265-4d3d-a4a6-e8f010404fb2",
   "metadata": {},
   "outputs": [],
   "source": []
  }
 ],
 "metadata": {
  "kernelspec": {
   "display_name": "Python 3 (ipykernel)",
   "language": "python",
   "name": "python3"
  },
  "language_info": {
   "codemirror_mode": {
    "name": "ipython",
    "version": 3
   },
   "file_extension": ".py",
   "mimetype": "text/x-python",
   "name": "python",
   "nbconvert_exporter": "python",
   "pygments_lexer": "ipython3",
   "version": "3.11.7"
  }
 },
 "nbformat": 4,
 "nbformat_minor": 5
}
