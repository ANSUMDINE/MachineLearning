{
 "cells": [
  {
   "cell_type": "markdown",
   "id": "da4247c0-0478-4135-b695-38f6d2ef7013",
   "metadata": {},
   "source": [
    "##### Problem Ones And Zeroes\n",
    "\n",
    "You are given an array of binary strings strs and two integers m and n.\r\n",
    "\r\n",
    "Return the size of the largest subset of strs such that there are at most m 0's and n 1's in the subset.\r\n",
    "\r\n",
    "A set x is a subset of a set y if all elements of x are also elements of y."
   ]
  },
  {
   "cell_type": "code",
   "execution_count": 1,
   "id": "66ecb10f-b757-4a9f-a616-b952b9e662a2",
   "metadata": {},
   "outputs": [
    {
     "name": "stdout",
     "output_type": "stream",
     "text": [
      "4\n"
     ]
    }
   ],
   "source": [
    "def findMaxForm(strs, m, n):\n",
    "    dp = [[0] * (n + 1) for _ in range(m + 1)]\n",
    "    \n",
    "    for s in strs:\n",
    "        zeros = s.count('0')\n",
    "        ones = s.count('1')\n",
    "        \n",
    "        for i in range(m, zeros - 1, -1):\n",
    "            for j in range(n, ones - 1, -1):\n",
    "                dp[i][j] = max(dp[i][j], dp[i - zeros][j - ones] + 1)\n",
    "    \n",
    "    return dp[m][n]\n",
    "\n",
    "# Exemple d'utilisation\n",
    "strs = [\"10\", \"0001\", \"111001\", \"1\", \"0\"]\n",
    "m = 5\n",
    "n = 3\n",
    "print(findMaxForm(strs, m, n))  # Sortie : 4"
   ]
  },
  {
   "cell_type": "code",
   "execution_count": null,
   "id": "6c47d672-1173-4f92-9667-0580a4738271",
   "metadata": {},
   "outputs": [],
   "source": []
  }
 ],
 "metadata": {
  "kernelspec": {
   "display_name": "Python 3 (ipykernel)",
   "language": "python",
   "name": "python3"
  },
  "language_info": {
   "codemirror_mode": {
    "name": "ipython",
    "version": 3
   },
   "file_extension": ".py",
   "mimetype": "text/x-python",
   "name": "python",
   "nbconvert_exporter": "python",
   "pygments_lexer": "ipython3",
   "version": "3.11.7"
  }
 },
 "nbformat": 4,
 "nbformat_minor": 5
}
