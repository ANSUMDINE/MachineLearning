{
 "cells": [
  {
   "cell_type": "markdown",
   "id": "e4e3b6c9-01d8-4114-83b3-507df0b21b3a",
   "metadata": {},
   "source": [
    "#### Problem maximum depth of binary tree\n",
    "\n",
    "Given the root of a binary tree, return its maximum depth.\r\n",
    "\r\n",
    "A binary tree's maximum depth is the number of nodes along the longest path from the root node down to the farthest leaf node.\n"
   ]
  },
  {
   "cell_type": "code",
   "execution_count": null,
   "id": "84d15c87-c40d-49ec-9aa4-861dec562210",
   "metadata": {},
   "outputs": [],
   "source": [
    "def maxDepth(root):\n",
    "    if root is None:\n",
    "        return 0\n",
    "    else:\n",
    "        left_depth = maxDepth(root.left)\n",
    "        right_depth = maxDepth(root.right)\n",
    "        return max(left_depth, right_depth) + 1\n"
   ]
  },
  {
   "cell_type": "code",
   "execution_count": null,
   "id": "e8ba33ef-f76a-465f-b78a-cd6ad3bd3446",
   "metadata": {},
   "outputs": [],
   "source": []
  }
 ],
 "metadata": {
  "kernelspec": {
   "display_name": "Python 3 (ipykernel)",
   "language": "python",
   "name": "python3"
  },
  "language_info": {
   "codemirror_mode": {
    "name": "ipython",
    "version": 3
   },
   "file_extension": ".py",
   "mimetype": "text/x-python",
   "name": "python",
   "nbconvert_exporter": "python",
   "pygments_lexer": "ipython3",
   "version": "3.11.7"
  }
 },
 "nbformat": 4,
 "nbformat_minor": 5
}
