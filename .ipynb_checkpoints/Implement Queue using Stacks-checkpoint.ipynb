{
 "cells": [
  {
   "cell_type": "markdown",
   "id": "582a0601-babb-45ac-b247-7a7e339917db",
   "metadata": {},
   "source": [
    "##### Problem Implement Queue using Stacks\n",
    "\n",
    "Implement a first in first out (FIFO) queue using only two stacks. The implemented queue should support all the functions of a normal queue (push, peek, pop, and empty).\r\n",
    "\r\n",
    "Implement the MyQueue class:\r\n",
    "\r\n",
    "void push(int x) Pushes element x to the back of the queue.\r\n",
    "int pop() Removes the element from the front of the queue and returns it.\r\n",
    "int peek() Returns the element at the front of the queue.\r\n",
    "boolean empty() Returns true if the queue is empty, false otherwise.\r\n",
    "Notes:\r\n",
    "\r\n",
    "You must use only standard operations of a stack, which means only push to top, peek/pop from top, size, and is empty operations are valid.\r\n",
    "Depending on your language, the stack may not be supported natively. You may simulate a stack using a list or deque (double-ended queue) as long as you use only a stack's standard operations."
   ]
  },
  {
   "cell_type": "code",
   "execution_count": 1,
   "id": "1427b03c-18a9-4269-8e87-830ee7f64090",
   "metadata": {},
   "outputs": [],
   "source": [
    "class MyQueue:\n",
    "    def __init__(self):\n",
    "        self.stack1 = []\n",
    "        self.stack2 = []\n",
    "    \n",
    "    def push(self, x):\n",
    "        # Pousser l'élément dans stack1\n",
    "        self.stack1.append(x)\n",
    "    \n",
    "    def pop(self):\n",
    "        # Si stack2 est vide, transférer tous les éléments de stack1 vers stack2\n",
    "        if not self.stack2:\n",
    "            while self.stack1:\n",
    "                self.stack2.append(self.stack1.pop())\n",
    "        # Pop l'élément du haut de stack2\n",
    "        return self.stack2.pop()\n",
    "    \n",
    "    def peek(self):\n",
    "        # Si stack2 est vide, transférer tous les éléments de stack1 vers stack2\n",
    "        if not self.stack2:\n",
    "            while self.stack1:\n",
    "                self.stack2.append(self.stack1.pop())\n",
    "        # Voir l'élément du haut de stack2 sans le retirer\n",
    "        return self.stack2[-1]\n",
    "    \n",
    "    def empty(self):\n",
    "        # La file d'attente est vide si et seulement si les deux piles sont vides\n",
    "        return not self.stack1 and not self.stack2\n"
   ]
  },
  {
   "cell_type": "code",
   "execution_count": 2,
   "id": "86f910a5-c37f-4234-8c19-182758ce0553",
   "metadata": {},
   "outputs": [
    {
     "name": "stdout",
     "output_type": "stream",
     "text": [
      "L'élément en tête de la file d'attente est : 1\n",
      "Élément retiré de la file d'attente : 1\n",
      "L'élément en tête de la file d'attente est maintenant : 2\n",
      "La file d'attente est-elle vide ? False\n",
      "Élément retiré de la file d'attente : 2\n",
      "Élément retiré de la file d'attente : 3\n",
      "La file d'attente est-elle vide maintenant ? True\n"
     ]
    }
   ],
   "source": [
    "# Créer une instance de MyQueue\n",
    "queue = MyQueue()\n",
    "\n",
    "# Pousser des éléments dans la file d'attente\n",
    "queue.push(1)\n",
    "queue.push(2)\n",
    "queue.push(3)\n",
    "\n",
    "# Afficher l'élément en tête de la file d'attente\n",
    "print(\"L'élément en tête de la file d'attente est :\", queue.peek())  # Sortie attendue : 1\n",
    "\n",
    "# Retirer l'élément en tête de la file d'attente\n",
    "print(\"Élément retiré de la file d'attente :\", queue.pop())  # Sortie attendue : 1\n",
    "\n",
    "# Afficher le nouvel élément en tête de la file d'attente\n",
    "print(\"L'élément en tête de la file d'attente est maintenant :\", queue.peek())  # Sortie attendue : 2\n",
    "\n",
    "# Vérifier si la file d'attente est vide\n",
    "print(\"La file d'attente est-elle vide ?\", queue.empty())  # Sortie attendue : False\n",
    "\n",
    "# Retirer les éléments restants\n",
    "print(\"Élément retiré de la file d'attente :\", queue.pop())  # Sortie attendue : 2\n",
    "print(\"Élément retiré de la file d'attente :\", queue.pop())  # Sortie attendue : 3\n",
    "\n",
    "# Vérifier si la file d'attente est vide maintenant\n",
    "print(\"La file d'attente est-elle vide maintenant ?\", queue.empty())  # Sortie attendue : True\n"
   ]
  },
  {
   "cell_type": "code",
   "execution_count": null,
   "id": "4ff8a22f-a53a-4d02-a92e-b1cd0d25901e",
   "metadata": {},
   "outputs": [],
   "source": []
  }
 ],
 "metadata": {
  "kernelspec": {
   "display_name": "Python 3 (ipykernel)",
   "language": "python",
   "name": "python3"
  },
  "language_info": {
   "codemirror_mode": {
    "name": "ipython",
    "version": 3
   },
   "file_extension": ".py",
   "mimetype": "text/x-python",
   "name": "python",
   "nbconvert_exporter": "python",
   "pygments_lexer": "ipython3",
   "version": "3.11.7"
  }
 },
 "nbformat": 4,
 "nbformat_minor": 5
}
