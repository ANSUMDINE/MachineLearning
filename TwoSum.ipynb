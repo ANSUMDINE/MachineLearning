{
 "cells": [
  {
   "cell_type": "markdown",
   "id": "a1425546-29c7-46d1-8f46-00052087cb16",
   "metadata": {},
   "source": [
    "###### Problem Two Sum\n",
    "\n",
    "Given an array of integers nums and an integer target, return indices of the two numbers such that they add up to target.\r\n",
    "\r\n",
    "You may assume that each input would have exactly one solution, and you may not use the same element twice.\r\n",
    "\r\n",
    "You can return the answer in any order."
   ]
  },
  {
   "cell_type": "code",
   "execution_count": 1,
   "id": "90ea77bf-7700-4e82-82b4-90083e0cbb1e",
   "metadata": {},
   "outputs": [
    {
     "name": "stdout",
     "output_type": "stream",
     "text": [
      "[0, 1]\n"
     ]
    }
   ],
   "source": [
    "def two_sum(nums, target):\n",
    "    # Dictionnaire pour stocker les valeurs et leurs indices\n",
    "    num_dict = {}\n",
    "    \n",
    "    # Parcourir le tableau\n",
    "    for i, num in enumerate(nums):\n",
    "        complement = target - num\n",
    "        if complement in num_dict:\n",
    "            return [num_dict[complement], i]\n",
    "        num_dict[num] = i\n",
    "\n",
    "# Exemple d'utilisation\n",
    "nums = [2, 7, 11, 15]\n",
    "target = 9\n",
    "print(two_sum(nums, target))  # Sortie : [0, 1]"
   ]
  },
  {
   "cell_type": "code",
   "execution_count": null,
   "id": "faffca5a-0ffc-44e8-b468-05ca52461087",
   "metadata": {},
   "outputs": [],
   "source": []
  }
 ],
 "metadata": {
  "kernelspec": {
   "display_name": "Python 3 (ipykernel)",
   "language": "python",
   "name": "python3"
  },
  "language_info": {
   "codemirror_mode": {
    "name": "ipython",
    "version": 3
   },
   "file_extension": ".py",
   "mimetype": "text/x-python",
   "name": "python",
   "nbconvert_exporter": "python",
   "pygments_lexer": "ipython3",
   "version": "3.11.7"
  }
 },
 "nbformat": 4,
 "nbformat_minor": 5
}
