{
 "cells": [
  {
   "cell_type": "markdown",
   "id": "d43d22cb-e90c-452a-9bc1-c5a193f09957",
   "metadata": {},
   "source": [
    "###### Problem reverst Linked List\n",
    "\n",
    "Given the head of a singly linked list, reverse the list, and return the reversed list."
   ]
  },
  {
   "cell_type": "code",
   "execution_count": 2,
   "id": "cdbfe948-b027-4acd-9411-9de417d49fed",
   "metadata": {},
   "outputs": [
    {
     "name": "stdout",
     "output_type": "stream",
     "text": [
      "[5, 4, 3, 2, 1]\n"
     ]
    }
   ],
   "source": [
    "def reste(l): \n",
    "    assert(not(l == ())), \"reste : erreur liste vide\" \n",
    "    return l[1:]\n",
    "\n",
    "def reverseList(liste):\n",
    "    if len(liste) == 0:\n",
    "        return []\n",
    "    elif len(liste) == 1:\n",
    "        return liste\n",
    "    else:\n",
    "        return reverseList(reste(liste)) + [liste[0]]\n",
    "\n",
    "# Exemple d'utilisation\n",
    "liste = [1, 2, 3, 4, 5]\n",
    "print(reverseList(liste))  # Sortie : [5, 4, 3, 2, 1]\n"
   ]
  },
  {
   "cell_type": "code",
   "execution_count": null,
   "id": "44c4b26d-48ce-4e86-9e85-d0e6a73ce576",
   "metadata": {},
   "outputs": [],
   "source": []
  }
 ],
 "metadata": {
  "kernelspec": {
   "display_name": "Python 3 (ipykernel)",
   "language": "python",
   "name": "python3"
  },
  "language_info": {
   "codemirror_mode": {
    "name": "ipython",
    "version": 3
   },
   "file_extension": ".py",
   "mimetype": "text/x-python",
   "name": "python",
   "nbconvert_exporter": "python",
   "pygments_lexer": "ipython3",
   "version": "3.11.7"
  }
 },
 "nbformat": 4,
 "nbformat_minor": 5
}
